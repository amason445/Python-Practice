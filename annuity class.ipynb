{
 "cells": [
  {
   "cell_type": "code",
   "execution_count": 8,
   "metadata": {},
   "outputs": [],
   "source": [
    "class AnnuityImmediate:\n",
    "    def __init__(self, i, n):\n",
    "        self.i = i\n",
    "        self.n = n\n",
    "    def PresentValue(self):\n",
    "        v = 1/(1 + self.i)\n",
    "        numerator1 = 1 - (v ** self.n)\n",
    "        pv = numerator1 / self.i\n",
    "        return pv\n",
    "    def FutureValue(self):\n",
    "        numerator2 = ((1+ self.i) ** self.n) - 1\n",
    "        fv = numerator2 / self.i\n",
    "        return fv\n",
    "    \n",
    "class COLAannuity:\n",
    "    def __init__(self, i, r, n, k):\n",
    "        self.i = i\n",
    "        self.r = r\n",
    "        self.n = n\n",
    "        self.k = k\n",
    "    def present_value(self):\n",
    "        pv = (1 - (((1 + self.r)/(1 + self.i))**self.n)) / (self.i - self.r)\n",
    "        return self.k * pv\n",
    "    def future_value(self):\n",
    "        fv = (((1 + self.i)**self.n) - ((1 + self.r)**self.n)) / (self.i - self.r)\n",
    "        return self.k * fv"
   ]
  },
  {
   "cell_type": "code",
   "execution_count": 24,
   "metadata": {},
   "outputs": [],
   "source": [
    "x = AnnuityImmediate(i = 0.03, n = 3).PresentValue()\n",
    "x2 = AnnuityImmediate(i = 0.03, n = 3).FutureValue()\n",
    "y = AnnuityImmediate(i = 0.07, n = 3).FutureValue()"
   ]
  },
  {
   "cell_type": "code",
   "execution_count": null,
   "metadata": {},
   "outputs": [],
   "source": [
    "COLAannuity(i = 0.06, r = 0.05, n =10, k = 100).present_value()\n",
    "COLAannuity(i = 0.06, r = 0.025, n =10, k = 100).future_value()"
   ]
  }
 ],
 "metadata": {
  "kernelspec": {
   "display_name": "Python 3",
   "language": "python",
   "name": "python3"
  },
  "language_info": {
   "codemirror_mode": {
    "name": "ipython",
    "version": 3
   },
   "file_extension": ".py",
   "mimetype": "text/x-python",
   "name": "python",
   "nbconvert_exporter": "python",
   "pygments_lexer": "ipython3",
   "version": "3.8.7"
  }
 },
 "nbformat": 4,
 "nbformat_minor": 4
}
